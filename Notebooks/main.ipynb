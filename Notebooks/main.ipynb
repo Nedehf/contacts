{
 "cells": [
  {
   "cell_type": "code",
   "execution_count": null,
   "id": "super-province",
   "metadata": {},
   "outputs": [],
   "source": [
    "print(\"Hello Me!\")"
   ]
  },
  {
   "cell_type": "code",
   "execution_count": null,
   "id": "published-timing",
   "metadata": {},
   "outputs": [],
   "source": [
    "print(\"Two!\")"
   ]
  }
 ],
 "metadata": {
  "kernelspec": {
   "display_name": "Python 3",
   "language": "python",
   "name": "python3"
  },
  "language_info": {
   "codemirror_mode": {
    "name": "ipython",
    "version": 3
   },
   "file_extension": ".py",
   "mimetype": "text/x-python",
   "name": "python",
   "nbconvert_exporter": "python",
   "pygments_lexer": "ipython3",
   "version": "3.7.8"
  }
 },
 "nbformat": 4,
 "nbformat_minor": 5
}